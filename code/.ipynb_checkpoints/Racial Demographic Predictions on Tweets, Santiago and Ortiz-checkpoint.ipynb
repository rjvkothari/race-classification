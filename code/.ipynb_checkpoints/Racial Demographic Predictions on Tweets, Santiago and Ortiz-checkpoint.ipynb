{
 "cells": [
  {
   "cell_type": "markdown",
   "metadata": {},
   "source": [
    "\n",
    "# Race classification \n",
    "\n",
    "Sarah Santiago and Carlos Ortiz initially wrote this notebook. Jae Yeon Kim reviwed the notebook, edited the markdown, and commented on the code.\n",
    "\n",
    "Racial demographic dialect predictions were made by the model developed by [Blodgett, S. L., Green, L., & O'Connor, B. (2016)](https://arxiv.org/pdf/1608.08868.pdf). We modified their predict function in [the public Git repository](https://github.com/slanglab/twitteraae) to work in the notebook environment. "
   ]
  },
  {
   "cell_type": "code",
   "execution_count": 1,
   "metadata": {
    "scrolled": true
   },
   "outputs": [],
   "source": [
    "# Import libraries\n",
    "\n",
    "import pandas as pd\n",
    "import numpy as np\n",
    "import re\n",
    "import seaborn as sns\n",
    "import matplotlib.pyplot as plt\n",
    "\n",
    "## Language-demography model \n",
    "\n",
    "import predict"
   ]
  },
  {
   "cell_type": "markdown",
   "metadata": {},
   "source": [
    "### Import Tweets"
   ]
  },
  {
   "cell_type": "code",
   "execution_count": 2,
   "metadata": {},
   "outputs": [
    {
     "data": {
      "text/html": [
       "<div>\n",
       "<style scoped>\n",
       "    .dataframe tbody tr th:only-of-type {\n",
       "        vertical-align: middle;\n",
       "    }\n",
       "\n",
       "    .dataframe tbody tr th {\n",
       "        vertical-align: top;\n",
       "    }\n",
       "\n",
       "    .dataframe thead th {\n",
       "        text-align: right;\n",
       "    }\n",
       "</style>\n",
       "<table border=\"1\" class=\"dataframe\">\n",
       "  <thead>\n",
       "    <tr style=\"text-align: right;\">\n",
       "      <th></th>\n",
       "      <th>Tweet</th>\n",
       "      <th>Type</th>\n",
       "      <th>Number of Votes</th>\n",
       "    </tr>\n",
       "    <tr>\n",
       "      <th>ID</th>\n",
       "      <th></th>\n",
       "      <th></th>\n",
       "      <th></th>\n",
       "    </tr>\n",
       "  </thead>\n",
       "  <tbody>\n",
       "    <tr>\n",
       "      <th>0</th>\n",
       "      <td>RT @Papapishu: Man it would fucking rule if we...</td>\n",
       "      <td>abusive</td>\n",
       "      <td>4</td>\n",
       "    </tr>\n",
       "    <tr>\n",
       "      <th>1</th>\n",
       "      <td>It is time to draw close to Him &amp;#128591;&amp;#127...</td>\n",
       "      <td>normal</td>\n",
       "      <td>4</td>\n",
       "    </tr>\n",
       "    <tr>\n",
       "      <th>2</th>\n",
       "      <td>if you notice me start to act different or dis...</td>\n",
       "      <td>normal</td>\n",
       "      <td>5</td>\n",
       "    </tr>\n",
       "    <tr>\n",
       "      <th>3</th>\n",
       "      <td>Forget unfollowers, I believe in growing. 7 ne...</td>\n",
       "      <td>normal</td>\n",
       "      <td>3</td>\n",
       "    </tr>\n",
       "    <tr>\n",
       "      <th>4</th>\n",
       "      <td>RT @Vitiligoprince: Hate Being sexually Frustr...</td>\n",
       "      <td>abusive</td>\n",
       "      <td>4</td>\n",
       "    </tr>\n",
       "  </tbody>\n",
       "</table>\n",
       "</div>"
      ],
      "text/plain": [
       "                                                Tweet     Type  \\\n",
       "ID                                                               \n",
       "0   RT @Papapishu: Man it would fucking rule if we...  abusive   \n",
       "1   It is time to draw close to Him &#128591;&#127...   normal   \n",
       "2   if you notice me start to act different or dis...   normal   \n",
       "3   Forget unfollowers, I believe in growing. 7 ne...   normal   \n",
       "4   RT @Vitiligoprince: Hate Being sexually Frustr...  abusive   \n",
       "\n",
       "    Number of Votes  \n",
       "ID                   \n",
       "0                 4  \n",
       "1                 4  \n",
       "2                 5  \n",
       "3                 3  \n",
       "4                 4  "
      ]
     },
     "execution_count": 2,
     "metadata": {},
     "output_type": "execute_result"
    }
   ],
   "source": [
    "\n",
    "# Import file \n",
    "tweets = pd.read_csv(\"tweet.csv\").drop(['Unnamed: 0'], axis=1)\n",
    "\n",
    "# Index variable \n",
    "tweets.index.name = 'ID'\n",
    "\n",
    "# First five rows\n",
    "tweets.head()"
   ]
  },
  {
   "cell_type": "markdown",
   "metadata": {},
   "source": [
    "### Clean Tweets"
   ]
  },
  {
   "cell_type": "code",
   "execution_count": 11,
   "metadata": {},
   "outputs": [
    {
     "data": {
      "text/html": [
       "<div>\n",
       "<style scoped>\n",
       "    .dataframe tbody tr th:only-of-type {\n",
       "        vertical-align: middle;\n",
       "    }\n",
       "\n",
       "    .dataframe tbody tr th {\n",
       "        vertical-align: top;\n",
       "    }\n",
       "\n",
       "    .dataframe thead th {\n",
       "        text-align: right;\n",
       "    }\n",
       "</style>\n",
       "<table border=\"1\" class=\"dataframe\">\n",
       "  <thead>\n",
       "    <tr style=\"text-align: right;\">\n",
       "      <th></th>\n",
       "      <th>Tweet</th>\n",
       "      <th>Type</th>\n",
       "      <th>Number of Votes</th>\n",
       "    </tr>\n",
       "    <tr>\n",
       "      <th>ID</th>\n",
       "      <th></th>\n",
       "      <th></th>\n",
       "      <th></th>\n",
       "    </tr>\n",
       "  </thead>\n",
       "  <tbody>\n",
       "    <tr>\n",
       "      <th>0</th>\n",
       "      <td>man it would fucking rule if we had a party ...</td>\n",
       "      <td>abusive</td>\n",
       "      <td>4</td>\n",
       "    </tr>\n",
       "    <tr>\n",
       "      <th>1</th>\n",
       "      <td>it is time to draw close to him 128591127995 f...</td>\n",
       "      <td>normal</td>\n",
       "      <td>4</td>\n",
       "    </tr>\n",
       "    <tr>\n",
       "      <th>2</th>\n",
       "      <td>if you notice me start to act different or dis...</td>\n",
       "      <td>normal</td>\n",
       "      <td>5</td>\n",
       "    </tr>\n",
       "    <tr>\n",
       "      <th>3</th>\n",
       "      <td>forget unfollowers i believe in growing 7 new ...</td>\n",
       "      <td>normal</td>\n",
       "      <td>3</td>\n",
       "    </tr>\n",
       "    <tr>\n",
       "      <th>4</th>\n",
       "      <td>hate being sexually frustrated like i wanna ...</td>\n",
       "      <td>abusive</td>\n",
       "      <td>4</td>\n",
       "    </tr>\n",
       "  </tbody>\n",
       "</table>\n",
       "</div>"
      ],
      "text/plain": [
       "                                                Tweet     Type  \\\n",
       "ID                                                               \n",
       "0     man it would fucking rule if we had a party ...  abusive   \n",
       "1   it is time to draw close to him 128591127995 f...   normal   \n",
       "2   if you notice me start to act different or dis...   normal   \n",
       "3   forget unfollowers i believe in growing 7 new ...   normal   \n",
       "4     hate being sexually frustrated like i wanna ...  abusive   \n",
       "\n",
       "    Number of Votes  \n",
       "ID                   \n",
       "0                 4  \n",
       "1                 4  \n",
       "2                 5  \n",
       "3                 3  \n",
       "4                 4  "
      ]
     },
     "execution_count": 11,
     "metadata": {},
     "output_type": "execute_result"
    }
   ],
   "source": [
    "url_re = r'http\\S+'\n",
    "at_re = r'@[\\w]*'\n",
    "rt_re = r'^[rt]{2}'\n",
    "punct_re = r'[^\\w\\s]'\n",
    "\n",
    "tweets_clean = tweets.copy()\n",
    "tweets_clean['Tweet'] = tweets_clean['Tweet'].str.lower() # Lower Case\n",
    "tweets_clean['Tweet'] = tweets_clean['Tweet'].str.replace(url_re, '') # Remove Links/URL\n",
    "tweets_clean['Tweet'] = tweets_clean['Tweet'].str.replace(at_re, '') # Remove @\n",
    "tweets_clean['Tweet'] = tweets_clean['Tweet'].str.replace(rt_re, '') # Remove rt\n",
    "tweets_clean['Tweet'] = tweets_clean['Tweet'].str.replace(punct_re, '') # Remove Punctation\n",
    "\n",
    "tweets_clean['Tweet'] = tweets_clean['Tweet'].apply(unicode) # Applied unicode for compatability with model\n",
    "\n",
    "tweets_clean.head()"
   ]
  },
  {
   "cell_type": "markdown",
   "metadata": {},
   "source": [
    "### Apply Predictions"
   ]
  },
  {
   "cell_type": "code",
   "execution_count": 12,
   "metadata": {},
   "outputs": [],
   "source": [
    "predict.load_model()\n",
    "\n",
    "def prediction(string):\n",
    "    return predict.predict(string.split())\n",
    "\n",
    "predictions = tweets_clean['Tweet'].apply(prediction)"
   ]
  },
  {
   "cell_type": "code",
   "execution_count": 14,
   "metadata": {},
   "outputs": [
    {
     "data": {
      "text/html": [
       "<div>\n",
       "<style scoped>\n",
       "    .dataframe tbody tr th:only-of-type {\n",
       "        vertical-align: middle;\n",
       "    }\n",
       "\n",
       "    .dataframe tbody tr th {\n",
       "        vertical-align: top;\n",
       "    }\n",
       "\n",
       "    .dataframe thead th {\n",
       "        text-align: right;\n",
       "    }\n",
       "</style>\n",
       "<table border=\"1\" class=\"dataframe\">\n",
       "  <thead>\n",
       "    <tr style=\"text-align: right;\">\n",
       "      <th></th>\n",
       "      <th>Tweet</th>\n",
       "      <th>Type</th>\n",
       "      <th>Number of Votes</th>\n",
       "      <th>Predictions</th>\n",
       "    </tr>\n",
       "    <tr>\n",
       "      <th>ID</th>\n",
       "      <th></th>\n",
       "      <th></th>\n",
       "      <th></th>\n",
       "      <th></th>\n",
       "    </tr>\n",
       "  </thead>\n",
       "  <tbody>\n",
       "    <tr>\n",
       "      <th>0</th>\n",
       "      <td>man it would fucking rule if we had a party ...</td>\n",
       "      <td>abusive</td>\n",
       "      <td>4</td>\n",
       "      <td>[0.1937550310081168, 0.1927830199683899, 0.045...</td>\n",
       "    </tr>\n",
       "    <tr>\n",
       "      <th>1</th>\n",
       "      <td>it is time to draw close to him 128591127995 f...</td>\n",
       "      <td>normal</td>\n",
       "      <td>4</td>\n",
       "      <td>[0.16264463645151736, 0.39557843780118646, 0.0...</td>\n",
       "    </tr>\n",
       "    <tr>\n",
       "      <th>2</th>\n",
       "      <td>if you notice me start to act different or dis...</td>\n",
       "      <td>normal</td>\n",
       "      <td>5</td>\n",
       "      <td>[0.48375532062075605, 0.32020392760056654, 0.0...</td>\n",
       "    </tr>\n",
       "    <tr>\n",
       "      <th>3</th>\n",
       "      <td>forget unfollowers i believe in growing 7 new ...</td>\n",
       "      <td>normal</td>\n",
       "      <td>3</td>\n",
       "      <td>[0.11106622108756084, 0.17376976110216905, 0.0...</td>\n",
       "    </tr>\n",
       "    <tr>\n",
       "      <th>4</th>\n",
       "      <td>hate being sexually frustrated like i wanna ...</td>\n",
       "      <td>abusive</td>\n",
       "      <td>4</td>\n",
       "      <td>[0.5320827798167245, 0.33257989951436884, 0.00...</td>\n",
       "    </tr>\n",
       "  </tbody>\n",
       "</table>\n",
       "</div>"
      ],
      "text/plain": [
       "                                                Tweet     Type  \\\n",
       "ID                                                               \n",
       "0     man it would fucking rule if we had a party ...  abusive   \n",
       "1   it is time to draw close to him 128591127995 f...   normal   \n",
       "2   if you notice me start to act different or dis...   normal   \n",
       "3   forget unfollowers i believe in growing 7 new ...   normal   \n",
       "4     hate being sexually frustrated like i wanna ...  abusive   \n",
       "\n",
       "    Number of Votes                                        Predictions  \n",
       "ID                                                                      \n",
       "0                 4  [0.1937550310081168, 0.1927830199683899, 0.045...  \n",
       "1                 4  [0.16264463645151736, 0.39557843780118646, 0.0...  \n",
       "2                 5  [0.48375532062075605, 0.32020392760056654, 0.0...  \n",
       "3                 3  [0.11106622108756084, 0.17376976110216905, 0.0...  \n",
       "4                 4  [0.5320827798167245, 0.33257989951436884, 0.00...  "
      ]
     },
     "execution_count": 14,
     "metadata": {},
     "output_type": "execute_result"
    }
   ],
   "source": [
    "tweets_clean['Predictions'] = predictions\n",
    "\n",
    "# Fill tweets that have no predictions with None\n",
    "tweets_clean = tweets_clean.fillna(\"NA\") \n",
    "tweets_clean.head() "
   ]
  },
  {
   "cell_type": "code",
   "execution_count": 18,
   "metadata": {},
   "outputs": [
    {
     "data": {
      "text/html": [
       "<div>\n",
       "<style scoped>\n",
       "    .dataframe tbody tr th:only-of-type {\n",
       "        vertical-align: middle;\n",
       "    }\n",
       "\n",
       "    .dataframe tbody tr th {\n",
       "        vertical-align: top;\n",
       "    }\n",
       "\n",
       "    .dataframe thead th {\n",
       "        text-align: right;\n",
       "    }\n",
       "</style>\n",
       "<table border=\"1\" class=\"dataframe\">\n",
       "  <thead>\n",
       "    <tr style=\"text-align: right;\">\n",
       "      <th></th>\n",
       "      <th>Tweet</th>\n",
       "      <th>Type</th>\n",
       "      <th>Number of Votes</th>\n",
       "      <th>Predictions</th>\n",
       "      <th>Predictions_AAE_W</th>\n",
       "    </tr>\n",
       "    <tr>\n",
       "      <th>ID</th>\n",
       "      <th></th>\n",
       "      <th></th>\n",
       "      <th></th>\n",
       "      <th></th>\n",
       "      <th></th>\n",
       "    </tr>\n",
       "  </thead>\n",
       "  <tbody>\n",
       "    <tr>\n",
       "      <th>0</th>\n",
       "      <td>man it would fucking rule if we had a party ...</td>\n",
       "      <td>abusive</td>\n",
       "      <td>4</td>\n",
       "      <td>[0.1937550310081168, 0.1927830199683899, 0.045...</td>\n",
       "      <td>[0.1937550310081168, 0.567846760366156]</td>\n",
       "    </tr>\n",
       "    <tr>\n",
       "      <th>1</th>\n",
       "      <td>it is time to draw close to him 128591127995 f...</td>\n",
       "      <td>normal</td>\n",
       "      <td>4</td>\n",
       "      <td>[0.16264463645151736, 0.39557843780118646, 0.0...</td>\n",
       "      <td>[0.16264463645151736, 0.4400849627220842]</td>\n",
       "    </tr>\n",
       "    <tr>\n",
       "      <th>2</th>\n",
       "      <td>if you notice me start to act different or dis...</td>\n",
       "      <td>normal</td>\n",
       "      <td>5</td>\n",
       "      <td>[0.48375532062075605, 0.32020392760056654, 0.0...</td>\n",
       "      <td>[0.48375532062075605, 0.19144012269954383]</td>\n",
       "    </tr>\n",
       "    <tr>\n",
       "      <th>3</th>\n",
       "      <td>forget unfollowers i believe in growing 7 new ...</td>\n",
       "      <td>normal</td>\n",
       "      <td>3</td>\n",
       "      <td>[0.11106622108756084, 0.17376976110216905, 0.0...</td>\n",
       "      <td>[0.11106622108756084, 0.6374406026707196]</td>\n",
       "    </tr>\n",
       "    <tr>\n",
       "      <th>4</th>\n",
       "      <td>hate being sexually frustrated like i wanna ...</td>\n",
       "      <td>abusive</td>\n",
       "      <td>4</td>\n",
       "      <td>[0.5320827798167245, 0.33257989951436884, 0.00...</td>\n",
       "      <td>[0.5320827798167245, 0.12603947381975572]</td>\n",
       "    </tr>\n",
       "  </tbody>\n",
       "</table>\n",
       "</div>"
      ],
      "text/plain": [
       "                                                Tweet     Type  \\\n",
       "ID                                                               \n",
       "0     man it would fucking rule if we had a party ...  abusive   \n",
       "1   it is time to draw close to him 128591127995 f...   normal   \n",
       "2   if you notice me start to act different or dis...   normal   \n",
       "3   forget unfollowers i believe in growing 7 new ...   normal   \n",
       "4     hate being sexually frustrated like i wanna ...  abusive   \n",
       "\n",
       "    Number of Votes                                        Predictions  \\\n",
       "ID                                                                       \n",
       "0                 4  [0.1937550310081168, 0.1927830199683899, 0.045...   \n",
       "1                 4  [0.16264463645151736, 0.39557843780118646, 0.0...   \n",
       "2                 5  [0.48375532062075605, 0.32020392760056654, 0.0...   \n",
       "3                 3  [0.11106622108756084, 0.17376976110216905, 0.0...   \n",
       "4                 4  [0.5320827798167245, 0.33257989951436884, 0.00...   \n",
       "\n",
       "                             Predictions_AAE_W  \n",
       "ID                                              \n",
       "0      [0.1937550310081168, 0.567846760366156]  \n",
       "1    [0.16264463645151736, 0.4400849627220842]  \n",
       "2   [0.48375532062075605, 0.19144012269954383]  \n",
       "3    [0.11106622108756084, 0.6374406026707196]  \n",
       "4    [0.5320827798167245, 0.12603947381975572]  "
      ]
     },
     "execution_count": 18,
     "metadata": {},
     "output_type": "execute_result"
    }
   ],
   "source": [
    "def first_last(item):\n",
    "    if item is 'NA':\n",
    "        return 'NA'\n",
    "\n",
    "    return np.array([item[0], item[3]])\n",
    "\n",
    "# Add \"Predictions_AAE_WAE\" column which is predictions for AAE dialect and WAE dialect\n",
    "tweets_clean['Predictions_AAE_W'] = tweets_clean['Predictions'].apply(first_last)\n",
    "tweets_clean.head()"
   ]
  },
  {
   "cell_type": "code",
   "execution_count": 19,
   "metadata": {},
   "outputs": [],
   "source": [
    "# Model 1\n",
    "def detect_two(item):\n",
    "    if item is 'NA':\n",
    "        return None\n",
    "    \n",
    "    if item[0] >= item[1]:\n",
    "        return 0\n",
    "    else:\n",
    "        return 1\n",
    "\n",
    "# Model 2\n",
    "def detect_all(item):\n",
    "    if item is \"NA\":\n",
    "        return None\n",
    "\n",
    "    if item[0] >= item[1] and item[0] >= item[2] and item[0] >= item[3]:\n",
    "        return 0\n",
    "    elif item[3] >= item[0] and item[3] >= item[1] and item[3] >= item[2]:\n",
    "        return 1\n",
    "    else:\n",
    "        return 2\n",
    "\n",
    "# Add \"Racial Demographic\" column such that AAE is represented by 0 and WAE is represented by 1\n",
    "tweets_clean['Racial Demographic (Two)'] = tweets_clean['Predictions_AAE_W'].apply(detect_two)\n",
    "tweets_clean['Racial Demographic (All)'] = tweets_clean['Predictions'].apply(detect_all)"
   ]
  },
  {
   "cell_type": "markdown",
   "metadata": {},
   "source": [
    "### Tweets with Predictions Based on Racial Demographics (AAE, WAE)"
   ]
  },
  {
   "cell_type": "code",
   "execution_count": 20,
   "metadata": {
    "scrolled": false
   },
   "outputs": [
    {
     "data": {
      "text/html": [
       "<div>\n",
       "<style scoped>\n",
       "    .dataframe tbody tr th:only-of-type {\n",
       "        vertical-align: middle;\n",
       "    }\n",
       "\n",
       "    .dataframe tbody tr th {\n",
       "        vertical-align: top;\n",
       "    }\n",
       "\n",
       "    .dataframe thead th {\n",
       "        text-align: right;\n",
       "    }\n",
       "</style>\n",
       "<table border=\"1\" class=\"dataframe\">\n",
       "  <thead>\n",
       "    <tr style=\"text-align: right;\">\n",
       "      <th></th>\n",
       "      <th>Tweet</th>\n",
       "      <th>Type</th>\n",
       "      <th>Number of Votes</th>\n",
       "      <th>Racial Demographic (Two)</th>\n",
       "      <th>Racial Demographic (All)</th>\n",
       "    </tr>\n",
       "    <tr>\n",
       "      <th>ID</th>\n",
       "      <th></th>\n",
       "      <th></th>\n",
       "      <th></th>\n",
       "      <th></th>\n",
       "      <th></th>\n",
       "    </tr>\n",
       "  </thead>\n",
       "  <tbody>\n",
       "    <tr>\n",
       "      <th>0</th>\n",
       "      <td>RT @Papapishu: Man it would fucking rule if we...</td>\n",
       "      <td>abusive</td>\n",
       "      <td>4</td>\n",
       "      <td>1.0</td>\n",
       "      <td>1.0</td>\n",
       "    </tr>\n",
       "    <tr>\n",
       "      <th>1</th>\n",
       "      <td>It is time to draw close to Him &amp;#128591;&amp;#127...</td>\n",
       "      <td>normal</td>\n",
       "      <td>4</td>\n",
       "      <td>1.0</td>\n",
       "      <td>1.0</td>\n",
       "    </tr>\n",
       "    <tr>\n",
       "      <th>2</th>\n",
       "      <td>if you notice me start to act different or dis...</td>\n",
       "      <td>normal</td>\n",
       "      <td>5</td>\n",
       "      <td>0.0</td>\n",
       "      <td>0.0</td>\n",
       "    </tr>\n",
       "    <tr>\n",
       "      <th>3</th>\n",
       "      <td>Forget unfollowers, I believe in growing. 7 ne...</td>\n",
       "      <td>normal</td>\n",
       "      <td>3</td>\n",
       "      <td>1.0</td>\n",
       "      <td>1.0</td>\n",
       "    </tr>\n",
       "    <tr>\n",
       "      <th>4</th>\n",
       "      <td>RT @Vitiligoprince: Hate Being sexually Frustr...</td>\n",
       "      <td>abusive</td>\n",
       "      <td>4</td>\n",
       "      <td>0.0</td>\n",
       "      <td>0.0</td>\n",
       "    </tr>\n",
       "  </tbody>\n",
       "</table>\n",
       "</div>"
      ],
      "text/plain": [
       "                                                Tweet     Type  \\\n",
       "ID                                                               \n",
       "0   RT @Papapishu: Man it would fucking rule if we...  abusive   \n",
       "1   It is time to draw close to Him &#128591;&#127...   normal   \n",
       "2   if you notice me start to act different or dis...   normal   \n",
       "3   Forget unfollowers, I believe in growing. 7 ne...   normal   \n",
       "4   RT @Vitiligoprince: Hate Being sexually Frustr...  abusive   \n",
       "\n",
       "    Number of Votes  Racial Demographic (Two)  Racial Demographic (All)  \n",
       "ID                                                                       \n",
       "0                 4                       1.0                       1.0  \n",
       "1                 4                       1.0                       1.0  \n",
       "2                 5                       0.0                       0.0  \n",
       "3                 3                       1.0                       1.0  \n",
       "4                 4                       0.0                       0.0  "
      ]
     },
     "execution_count": 20,
     "metadata": {},
     "output_type": "execute_result"
    }
   ],
   "source": [
    "final_tweets = tweets_clean.drop(columns=[\"Predictions\", \"Predictions_AAE_W\"])\n",
    "final_tweets['Tweet'] = tweets['Tweet']\n",
    "final_tweets.head()"
   ]
  },
  {
   "cell_type": "markdown",
   "metadata": {},
   "source": [
    "### Export Tweets to CSV"
   ]
  },
  {
   "cell_type": "code",
   "execution_count": 21,
   "metadata": {},
   "outputs": [],
   "source": [
    "final_tweets.to_csv('r_d_tweets_3.csv')"
   ]
  },
  {
   "cell_type": "markdown",
   "metadata": {},
   "source": [
    "## Analysis"
   ]
  },
  {
   "cell_type": "code",
   "execution_count": null,
   "metadata": {},
   "outputs": [],
   "source": [
    "sns.countplot(x=final_tweets['Racial Demographic (Two)'])\n",
    "plt.title(\"Racial Demographic (Two)\")"
   ]
  },
  {
   "cell_type": "code",
   "execution_count": 11,
   "metadata": {},
   "outputs": [
    {
     "data": {
      "text/plain": [
       "Text(0.5,1,'Racial Demographic (All)')"
      ]
     },
     "execution_count": 11,
     "metadata": {},
     "output_type": "execute_result"
    },
    {
     "data": {
      "image/png": "[encoded data removed]",
      "text/plain": [
       "<Figure size 432x288 with 1 Axes>"
      ]
     },
     "metadata": {
      "needs_background": "light"
     },
     "output_type": "display_data"
    }
   ],
   "source": [
    "sns.countplot(x=final_tweets['Racial Demographic (All)'])\n",
    "plt.title(\"Racial Demographic (All)\")"
   ]
  },
  {
   "cell_type": "code",
   "execution_count": 12,
   "metadata": {},
   "outputs": [
    {
     "data": {
      "text/html": [
       "<div>\n",
       "<style scoped>\n",
       "    .dataframe tbody tr th:only-of-type {\n",
       "        vertical-align: middle;\n",
       "    }\n",
       "\n",
       "    .dataframe tbody tr th {\n",
       "        vertical-align: top;\n",
       "    }\n",
       "\n",
       "    .dataframe thead th {\n",
       "        text-align: right;\n",
       "    }\n",
       "</style>\n",
       "<table border=\"1\" class=\"dataframe\">\n",
       "  <thead>\n",
       "    <tr style=\"text-align: right;\">\n",
       "      <th></th>\n",
       "      <th>Tweet</th>\n",
       "      <th>Type</th>\n",
       "      <th>Number of Votes</th>\n",
       "      <th>Racial Demographic (Two)</th>\n",
       "      <th>Racial Demographic (All)</th>\n",
       "    </tr>\n",
       "    <tr>\n",
       "      <th>ID</th>\n",
       "      <th></th>\n",
       "      <th></th>\n",
       "      <th></th>\n",
       "      <th></th>\n",
       "      <th></th>\n",
       "    </tr>\n",
       "  </thead>\n",
       "  <tbody>\n",
       "    <tr>\n",
       "      <th>2</th>\n",
       "      <td>if you notice me start to act different or dis...</td>\n",
       "      <td>normal</td>\n",
       "      <td>5</td>\n",
       "      <td>0.0</td>\n",
       "      <td>0.0</td>\n",
       "    </tr>\n",
       "    <tr>\n",
       "      <th>4</th>\n",
       "      <td>hate being sexually frustrated like i wanna ...</td>\n",
       "      <td>abusive</td>\n",
       "      <td>4</td>\n",
       "      <td>0.0</td>\n",
       "      <td>0.0</td>\n",
       "    </tr>\n",
       "    <tr>\n",
       "      <th>14</th>\n",
       "      <td>im a nasty ass freak when i like you</td>\n",
       "      <td>abusive</td>\n",
       "      <td>3</td>\n",
       "      <td>0.0</td>\n",
       "      <td>0.0</td>\n",
       "    </tr>\n",
       "    <tr>\n",
       "      <th>18</th>\n",
       "      <td>then you ask for a contact picture so you can ...</td>\n",
       "      <td>abusive</td>\n",
       "      <td>3</td>\n",
       "      <td>0.0</td>\n",
       "      <td>0.0</td>\n",
       "    </tr>\n",
       "    <tr>\n",
       "      <th>19</th>\n",
       "      <td>jurassic pork 128055128055128055 pork belly wi...</td>\n",
       "      <td>normal</td>\n",
       "      <td>3</td>\n",
       "      <td>0.0</td>\n",
       "      <td>0.0</td>\n",
       "    </tr>\n",
       "  </tbody>\n",
       "</table>\n",
       "</div>"
      ],
      "text/plain": [
       "                                                Tweet     Type  \\\n",
       "ID                                                               \n",
       "2   if you notice me start to act different or dis...   normal   \n",
       "4     hate being sexually frustrated like i wanna ...  abusive   \n",
       "14               im a nasty ass freak when i like you  abusive   \n",
       "18  then you ask for a contact picture so you can ...  abusive   \n",
       "19  jurassic pork 128055128055128055 pork belly wi...   normal   \n",
       "\n",
       "    Number of Votes  Racial Demographic (Two)  Racial Demographic (All)  \n",
       "ID                                                                       \n",
       "2                 5                       0.0                       0.0  \n",
       "4                 4                       0.0                       0.0  \n",
       "14                3                       0.0                       0.0  \n",
       "18                3                       0.0                       0.0  \n",
       "19                3                       0.0                       0.0  "
      ]
     },
     "execution_count": 12,
     "metadata": {},
     "output_type": "execute_result"
    }
   ],
   "source": [
    "aae = final_tweets[final_tweets['Racial Demographic (All)'] == 0]\n",
    "aae.head()"
   ]
  },
  {
   "cell_type": "code",
   "execution_count": 13,
   "metadata": {},
   "outputs": [
    {
     "data": {
      "text/html": [
       "<div>\n",
       "<style scoped>\n",
       "    .dataframe tbody tr th:only-of-type {\n",
       "        vertical-align: middle;\n",
       "    }\n",
       "\n",
       "    .dataframe tbody tr th {\n",
       "        vertical-align: top;\n",
       "    }\n",
       "\n",
       "    .dataframe thead th {\n",
       "        text-align: right;\n",
       "    }\n",
       "</style>\n",
       "<table border=\"1\" class=\"dataframe\">\n",
       "  <thead>\n",
       "    <tr style=\"text-align: right;\">\n",
       "      <th></th>\n",
       "      <th>Type</th>\n",
       "      <th>Tweet</th>\n",
       "      <th>Count</th>\n",
       "      <th>Racial Demographic (Two)</th>\n",
       "      <th>Racial Demographic (All)</th>\n",
       "    </tr>\n",
       "  </thead>\n",
       "  <tbody>\n",
       "    <tr>\n",
       "      <th>0</th>\n",
       "      <td>abusive</td>\n",
       "      <td>7401</td>\n",
       "      <td>7401</td>\n",
       "      <td>7401</td>\n",
       "      <td>7401</td>\n",
       "    </tr>\n",
       "    <tr>\n",
       "      <th>1</th>\n",
       "      <td>hateful</td>\n",
       "      <td>1488</td>\n",
       "      <td>1488</td>\n",
       "      <td>1488</td>\n",
       "      <td>1488</td>\n",
       "    </tr>\n",
       "    <tr>\n",
       "      <th>2</th>\n",
       "      <td>normal</td>\n",
       "      <td>2704</td>\n",
       "      <td>2704</td>\n",
       "      <td>2704</td>\n",
       "      <td>2704</td>\n",
       "    </tr>\n",
       "    <tr>\n",
       "      <th>3</th>\n",
       "      <td>spam</td>\n",
       "      <td>979</td>\n",
       "      <td>979</td>\n",
       "      <td>979</td>\n",
       "      <td>979</td>\n",
       "    </tr>\n",
       "  </tbody>\n",
       "</table>\n",
       "</div>"
      ],
      "text/plain": [
       "      Type  Tweet  Count  Racial Demographic (Two)  Racial Demographic (All)\n",
       "0  abusive   7401   7401                      7401                      7401\n",
       "1  hateful   1488   1488                      1488                      1488\n",
       "2   normal   2704   2704                      2704                      2704\n",
       "3     spam    979    979                       979                       979"
      ]
     },
     "execution_count": 13,
     "metadata": {},
     "output_type": "execute_result"
    }
   ],
   "source": [
    "counts = aae.groupby(\"Type\").count()\n",
    "counts = counts.reset_index().rename(columns = {'Number of Votes': 'Count'})\n",
    "counts"
   ]
  },
  {
   "cell_type": "code",
   "execution_count": 14,
   "metadata": {},
   "outputs": [
    {
     "data": {
      "text/plain": [
       "Text(0.5,1,'Type Counts AAE')"
      ]
     },
     "execution_count": 14,
     "metadata": {},
     "output_type": "execute_result"
    },
    {
     "data": {
      "image/png": "[encoded data removed]",
      "text/plain": [
       "<Figure size 432x288 with 1 Axes>"
      ]
     },
     "metadata": {
      "needs_background": "light"
     },
     "output_type": "display_data"
    }
   ],
   "source": [
    "sns.barplot(x=\"Type\", y=\"Count\", data = counts)\n",
    "plt.title(\"Type Counts AAE\")"
   ]
  },
  {
   "cell_type": "code",
   "execution_count": 15,
   "metadata": {},
   "outputs": [
    {
     "data": {
      "text/html": [
       "<div>\n",
       "<style scoped>\n",
       "    .dataframe tbody tr th:only-of-type {\n",
       "        vertical-align: middle;\n",
       "    }\n",
       "\n",
       "    .dataframe tbody tr th {\n",
       "        vertical-align: top;\n",
       "    }\n",
       "\n",
       "    .dataframe thead th {\n",
       "        text-align: right;\n",
       "    }\n",
       "</style>\n",
       "<table border=\"1\" class=\"dataframe\">\n",
       "  <thead>\n",
       "    <tr style=\"text-align: right;\">\n",
       "      <th></th>\n",
       "      <th>Tweet</th>\n",
       "      <th>Type</th>\n",
       "      <th>Number of Votes</th>\n",
       "      <th>Racial Demographic (Two)</th>\n",
       "      <th>Racial Demographic (All)</th>\n",
       "    </tr>\n",
       "    <tr>\n",
       "      <th>ID</th>\n",
       "      <th></th>\n",
       "      <th></th>\n",
       "      <th></th>\n",
       "      <th></th>\n",
       "      <th></th>\n",
       "    </tr>\n",
       "  </thead>\n",
       "  <tbody>\n",
       "    <tr>\n",
       "      <th>0</th>\n",
       "      <td>man it would fucking rule if we had a party ...</td>\n",
       "      <td>abusive</td>\n",
       "      <td>4</td>\n",
       "      <td>1.0</td>\n",
       "      <td>1.0</td>\n",
       "    </tr>\n",
       "    <tr>\n",
       "      <th>1</th>\n",
       "      <td>it is time to draw close to him 128591127995 f...</td>\n",
       "      <td>normal</td>\n",
       "      <td>4</td>\n",
       "      <td>1.0</td>\n",
       "      <td>1.0</td>\n",
       "    </tr>\n",
       "    <tr>\n",
       "      <th>3</th>\n",
       "      <td>forget unfollowers i believe in growing 7 new ...</td>\n",
       "      <td>normal</td>\n",
       "      <td>3</td>\n",
       "      <td>1.0</td>\n",
       "      <td>1.0</td>\n",
       "    </tr>\n",
       "    <tr>\n",
       "      <th>5</th>\n",
       "      <td>topped the group in tgp disc jam season 2 onto...</td>\n",
       "      <td>normal</td>\n",
       "      <td>3</td>\n",
       "      <td>1.0</td>\n",
       "      <td>1.0</td>\n",
       "    </tr>\n",
       "    <tr>\n",
       "      <th>6</th>\n",
       "      <td>that daily baby aspirin for your heart just mi...</td>\n",
       "      <td>normal</td>\n",
       "      <td>5</td>\n",
       "      <td>1.0</td>\n",
       "      <td>1.0</td>\n",
       "    </tr>\n",
       "  </tbody>\n",
       "</table>\n",
       "</div>"
      ],
      "text/plain": [
       "                                                Tweet     Type  \\\n",
       "ID                                                               \n",
       "0     man it would fucking rule if we had a party ...  abusive   \n",
       "1   it is time to draw close to him 128591127995 f...   normal   \n",
       "3   forget unfollowers i believe in growing 7 new ...   normal   \n",
       "5   topped the group in tgp disc jam season 2 onto...   normal   \n",
       "6   that daily baby aspirin for your heart just mi...   normal   \n",
       "\n",
       "    Number of Votes  Racial Demographic (Two)  Racial Demographic (All)  \n",
       "ID                                                                       \n",
       "0                 4                       1.0                       1.0  \n",
       "1                 4                       1.0                       1.0  \n",
       "3                 3                       1.0                       1.0  \n",
       "5                 3                       1.0                       1.0  \n",
       "6                 5                       1.0                       1.0  "
      ]
     },
     "execution_count": 15,
     "metadata": {},
     "output_type": "execute_result"
    }
   ],
   "source": [
    "wae = final_tweets[final_tweets['Racial Demographic (All)'] == 1]\n",
    "wae.head()"
   ]
  },
  {
   "cell_type": "code",
   "execution_count": 16,
   "metadata": {},
   "outputs": [
    {
     "data": {
      "text/html": [
       "<div>\n",
       "<style scoped>\n",
       "    .dataframe tbody tr th:only-of-type {\n",
       "        vertical-align: middle;\n",
       "    }\n",
       "\n",
       "    .dataframe tbody tr th {\n",
       "        vertical-align: top;\n",
       "    }\n",
       "\n",
       "    .dataframe thead th {\n",
       "        text-align: right;\n",
       "    }\n",
       "</style>\n",
       "<table border=\"1\" class=\"dataframe\">\n",
       "  <thead>\n",
       "    <tr style=\"text-align: right;\">\n",
       "      <th></th>\n",
       "      <th>Type</th>\n",
       "      <th>Tweet</th>\n",
       "      <th>Count</th>\n",
       "      <th>Racial Demographic (Two)</th>\n",
       "      <th>Racial Demographic (All)</th>\n",
       "    </tr>\n",
       "  </thead>\n",
       "  <tbody>\n",
       "    <tr>\n",
       "      <th>0</th>\n",
       "      <td>abusive</td>\n",
       "      <td>10834</td>\n",
       "      <td>10834</td>\n",
       "      <td>10834</td>\n",
       "      <td>10834</td>\n",
       "    </tr>\n",
       "    <tr>\n",
       "      <th>1</th>\n",
       "      <td>hateful</td>\n",
       "      <td>2755</td>\n",
       "      <td>2755</td>\n",
       "      <td>2755</td>\n",
       "      <td>2755</td>\n",
       "    </tr>\n",
       "    <tr>\n",
       "      <th>2</th>\n",
       "      <td>normal</td>\n",
       "      <td>43571</td>\n",
       "      <td>43571</td>\n",
       "      <td>43571</td>\n",
       "      <td>43571</td>\n",
       "    </tr>\n",
       "    <tr>\n",
       "      <th>3</th>\n",
       "      <td>spam</td>\n",
       "      <td>9800</td>\n",
       "      <td>9800</td>\n",
       "      <td>9800</td>\n",
       "      <td>9800</td>\n",
       "    </tr>\n",
       "  </tbody>\n",
       "</table>\n",
       "</div>"
      ],
      "text/plain": [
       "      Type  Tweet  Count  Racial Demographic (Two)  Racial Demographic (All)\n",
       "0  abusive  10834  10834                     10834                     10834\n",
       "1  hateful   2755   2755                      2755                      2755\n",
       "2   normal  43571  43571                     43571                     43571\n",
       "3     spam   9800   9800                      9800                      9800"
      ]
     },
     "execution_count": 16,
     "metadata": {},
     "output_type": "execute_result"
    }
   ],
   "source": [
    "counts_wae = wae.groupby(\"Type\").count()\n",
    "counts_wae = counts_wae.reset_index().rename(columns = {'Number of Votes': 'Count'})\n",
    "counts_wae"
   ]
  },
  {
   "cell_type": "code",
   "execution_count": 17,
   "metadata": {},
   "outputs": [
    {
     "data": {
      "text/plain": [
       "Text(0.5,1,'Type Counts WAE')"
      ]
     },
     "execution_count": 17,
     "metadata": {},
     "output_type": "execute_result"
    },
    {
     "data": {
      "image/png": "[encoded data removed]",
      "text/plain": [
       "<Figure size 432x288 with 1 Axes>"
      ]
     },
     "metadata": {
      "needs_background": "light"
     },
     "output_type": "display_data"
    }
   ],
   "source": [
    "sns.barplot(x=\"Type\", y=\"Count\", data = counts_wae)\n",
    "plt.title(\"Type Counts WAE\")"
   ]
  },
  {
   "cell_type": "code",
   "execution_count": 18,
   "metadata": {},
   "outputs": [
    {
     "data": {
      "text/plain": [
       "Text(0.5,1,'Type Counts Other')"
      ]
     },
     "execution_count": 18,
     "metadata": {},
     "output_type": "execute_result"
    },
    {
     "data": {
      "image/png": "[encoded data removed]",
      "text/plain": [
       "<Figure size 432x288 with 1 Axes>"
      ]
     },
     "metadata": {
      "needs_background": "light"
     },
     "output_type": "display_data"
    }
   ],
   "source": [
    "other = final_tweets[(final_tweets['Racial Demographic (All)'] == 2)] #| (final_tweets['Racial Demographic (All)'] == 0)]\n",
    "\n",
    "counts_other = other.groupby(\"Type\").count()\n",
    "counts_other = counts_other.reset_index().rename(columns = {'Number of Votes': 'Count'})\n",
    "\n",
    "sns.barplot(x=\"Type\", y=\"Count\", data = counts_other)\n",
    "plt.title(\"Type Counts Other\")"
   ]
  }
 ],
 "metadata": {
  "kernelspec": {
   "display_name": "Python 3",
   "language": "python",
   "name": "python3"
  },
  "language_info": {
   "codemirror_mode": {
    "name": "ipython",
    "version": 3
   },
   "file_extension": ".py",
   "mimetype": "text/x-python",
   "name": "python",
   "nbconvert_exporter": "python",
   "pygments_lexer": "ipython3",
   "version": "3.7.4"
  },
  "toc": {
   "base_numbering": 1,
   "nav_menu": {},
   "number_sections": true,
   "sideBar": true,
   "skip_h1_title": false,
   "title_cell": "Table of Contents",
   "title_sidebar": "Contents",
   "toc_cell": false,
   "toc_position": {},
   "toc_section_display": true,
   "toc_window_display": false
  }
 },
 "nbformat": 4,
 "nbformat_minor": 2
}
